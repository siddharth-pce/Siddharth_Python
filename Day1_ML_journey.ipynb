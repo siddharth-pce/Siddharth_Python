{
  "nbformat": 4,
  "nbformat_minor": 0,
  "metadata": {
    "colab": {
      "provenance": []
    },
    "kernelspec": {
      "name": "python3",
      "display_name": "Python 3"
    },
    "language_info": {
      "name": "python"
    }
  },
  "cells": [
    {
      "cell_type": "code",
      "execution_count": null,
      "metadata": {
        "colab": {
          "base_uri": "https://localhost:8080/"
        },
        "id": "HpmbKqI7jltH",
        "outputId": "0ec1bf68-5f68-4ec7-f746-ea081ec8cab5"
      },
      "outputs": [
        {
          "output_type": "stream",
          "name": "stdout",
          "text": [
            "hello world\n"
          ]
        }
      ],
      "source": [
        "print(\"hello world\")"
      ]
    },
    {
      "cell_type": "code",
      "source": [
        "print(\"Siddharth!!!!\")"
      ],
      "metadata": {
        "colab": {
          "base_uri": "https://localhost:8080/"
        },
        "id": "jZGfwwCN3WZD",
        "outputId": "f6e69f5f-ac29-4965-837d-6d2878f98368"
      },
      "execution_count": null,
      "outputs": [
        {
          "output_type": "stream",
          "name": "stdout",
          "text": [
            "Siddharth!!!!\n"
          ]
        }
      ]
    },
    {
      "cell_type": "code",
      "source": [
        "ashdkjas"
      ],
      "metadata": {
        "id": "34ZbDQBAxLWX"
      },
      "execution_count": null,
      "outputs": []
    },
    {
      "cell_type": "code",
      "source": [
        "a=123 # the following code snipets shows memory management\n",
        "print(id(a))\n",
        "b=123\n",
        "print(id(b))\n",
        "c=567\n",
        "print(id(c))"
      ],
      "metadata": {
        "id": "ra5FagVWG2KY",
        "outputId": "407f7c90-ed85-49ef-ed22-47ab5fa2f66a",
        "colab": {
          "base_uri": "https://localhost:8080/"
        }
      },
      "execution_count": 4,
      "outputs": [
        {
          "output_type": "stream",
          "name": "stdout",
          "text": [
            "10754760\n",
            "10754760\n",
            "138807134478032\n"
          ]
        }
      ]
    },
    {
      "cell_type": "code",
      "source": [
        "a=b=10 # Variable assignment\n",
        "c=20\n",
        "print(a,b,c)"
      ],
      "metadata": {
        "id": "rwmSNtbrHlak",
        "outputId": "57be9d4d-5c6c-423c-bbfc-c70ffea0fabd",
        "colab": {
          "base_uri": "https://localhost:8080/"
        }
      },
      "execution_count": 5,
      "outputs": [
        {
          "output_type": "stream",
          "name": "stdout",
          "text": [
            "10 10 20\n"
          ]
        }
      ]
    },
    {
      "cell_type": "code",
      "source": [
        "from ast import keyword\n",
        "import keyword as kw\n",
        "print(keyword.kwlist)\n",
        "print(kw.kwlist)"
      ],
      "metadata": {
        "id": "tqcT5jteIqN3",
        "outputId": "ee903b92-5005-465f-9ae1-4ad5f1a80fa6",
        "colab": {
          "base_uri": "https://localhost:8080/"
        }
      },
      "execution_count": 6,
      "outputs": [
        {
          "output_type": "stream",
          "name": "stdout",
          "text": [
            "['False', 'None', 'True', 'and', 'as', 'assert', 'async', 'await', 'break', 'class', 'continue', 'def', 'del', 'elif', 'else', 'except', 'finally', 'for', 'from', 'global', 'if', 'import', 'in', 'is', 'lambda', 'nonlocal', 'not', 'or', 'pass', 'raise', 'return', 'try', 'while', 'with', 'yield']\n"
          ]
        }
      ]
    },
    {
      "cell_type": "code",
      "source": [
        "False=10 # Keywords cannot be used as variable\n",
        "print (false)"
      ],
      "metadata": {
        "id": "qz64JLx5J-lD",
        "outputId": "495dd4e7-efe2-4891-8503-661fcb4d1890",
        "colab": {
          "base_uri": "https://localhost:8080/",
          "height": 106
        }
      },
      "execution_count": 9,
      "outputs": [
        {
          "output_type": "error",
          "ename": "SyntaxError",
          "evalue": "cannot assign to False (<ipython-input-9-eb97be07a03a>, line 1)",
          "traceback": [
            "\u001b[0;36m  File \u001b[0;32m\"<ipython-input-9-eb97be07a03a>\"\u001b[0;36m, line \u001b[0;32m1\u001b[0m\n\u001b[0;31m    False=10\u001b[0m\n\u001b[0m    ^\u001b[0m\n\u001b[0;31mSyntaxError\u001b[0m\u001b[0;31m:\u001b[0m cannot assign to False\n"
          ]
        }
      ]
    },
    {
      "cell_type": "code",
      "source": [
        "#multilile comment\n",
        "\"\"\" hllllll\n",
        "hohohouip\n",
        "lkjljlk\"\"\"\n",
        "print(\"Hi\")"
      ],
      "metadata": {
        "id": "wS-cwilvKQnn",
        "outputId": "a3c97515-55e4-43c1-c981-3234a421627b",
        "colab": {
          "base_uri": "https://localhost:8080/"
        }
      },
      "execution_count": 10,
      "outputs": [
        {
          "output_type": "stream",
          "name": "stdout",
          "text": [
            "Hi\n"
          ]
        }
      ]
    },
    {
      "cell_type": "code",
      "source": [
        "#multilile string\n",
        "st=\"\"\" hllllll\n",
        "hohohouip\n",
        "lkjljlk\"\"\"\n",
        "print(st)"
      ],
      "metadata": {
        "id": "Pv3NqS8mNW_7",
        "outputId": "c542f760-10b2-48d5-ab57-366ba24cc87b",
        "colab": {
          "base_uri": "https://localhost:8080/"
        }
      },
      "execution_count": 11,
      "outputs": [
        {
          "output_type": "stream",
          "name": "stdout",
          "text": [
            " hllllll\n",
            "hohohouip\n",
            "lkjljlk\n"
          ]
        }
      ]
    }
  ]
}