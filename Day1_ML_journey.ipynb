{
  "nbformat": 4,
  "nbformat_minor": 0,
  "metadata": {
    "colab": {
      "provenance": []
    },
    "kernelspec": {
      "name": "python3",
      "display_name": "Python 3"
    },
    "language_info": {
      "name": "python"
    }
  },
  "cells": [
    {
      "cell_type": "code",
      "execution_count": null,
      "metadata": {
        "colab": {
          "base_uri": "https://localhost:8080/"
        },
        "id": "HpmbKqI7jltH",
        "outputId": "0ec1bf68-5f68-4ec7-f746-ea081ec8cab5"
      },
      "outputs": [
        {
          "output_type": "stream",
          "name": "stdout",
          "text": [
            "hello world\n"
          ]
        }
      ],
      "source": [
        "print(\"hello world\")"
      ]
    },
    {
      "cell_type": "code",
      "source": [
        "print(\"Siddharth!!!!\")"
      ],
      "metadata": {
        "colab": {
          "base_uri": "https://localhost:8080/"
        },
        "id": "jZGfwwCN3WZD",
        "outputId": "f6e69f5f-ac29-4965-837d-6d2878f98368"
      },
      "execution_count": null,
      "outputs": [
        {
          "output_type": "stream",
          "name": "stdout",
          "text": [
            "Siddharth!!!!\n"
          ]
        }
      ]
    },
    {
      "cell_type": "code",
      "source": [
        "ashdkjas"
      ],
      "metadata": {
        "id": "34ZbDQBAxLWX"
      },
      "execution_count": null,
      "outputs": []
    },
    {
      "cell_type": "code",
      "source": [
        "a=123 # the following code snipets shows memory management\n",
        "print(id(a))\n",
        "b=123\n",
        "print(id(b))\n",
        "c=567\n",
        "print(id(c))"
      ],
      "metadata": {
        "id": "ra5FagVWG2KY",
        "outputId": "407f7c90-ed85-49ef-ed22-47ab5fa2f66a",
        "colab": {
          "base_uri": "https://localhost:8080/"
        }
      },
      "execution_count": null,
      "outputs": [
        {
          "output_type": "stream",
          "name": "stdout",
          "text": [
            "10754760\n",
            "10754760\n",
            "138807134478032\n"
          ]
        }
      ]
    },
    {
      "cell_type": "code",
      "source": [
        "a=b=10 # Variable assignment\n",
        "c=20\n",
        "print(a,b,c)"
      ],
      "metadata": {
        "id": "rwmSNtbrHlak",
        "outputId": "57be9d4d-5c6c-423c-bbfc-c70ffea0fabd",
        "colab": {
          "base_uri": "https://localhost:8080/"
        }
      },
      "execution_count": null,
      "outputs": [
        {
          "output_type": "stream",
          "name": "stdout",
          "text": [
            "10 10 20\n"
          ]
        }
      ]
    },
    {
      "cell_type": "code",
      "source": [
        "from ast import keyword\n",
        "import keyword as kw\n",
        "print(keyword.kwlist)\n",
        "print(kw.kwlist)"
      ],
      "metadata": {
        "id": "tqcT5jteIqN3",
        "outputId": "ee903b92-5005-465f-9ae1-4ad5f1a80fa6",
        "colab": {
          "base_uri": "https://localhost:8080/"
        }
      },
      "execution_count": null,
      "outputs": [
        {
          "output_type": "stream",
          "name": "stdout",
          "text": [
            "['False', 'None', 'True', 'and', 'as', 'assert', 'async', 'await', 'break', 'class', 'continue', 'def', 'del', 'elif', 'else', 'except', 'finally', 'for', 'from', 'global', 'if', 'import', 'in', 'is', 'lambda', 'nonlocal', 'not', 'or', 'pass', 'raise', 'return', 'try', 'while', 'with', 'yield']\n"
          ]
        }
      ]
    },
    {
      "cell_type": "code",
      "source": [
        "False=10 # Keywords cannot be used as variable\n",
        "print (false)"
      ],
      "metadata": {
        "id": "qz64JLx5J-lD",
        "outputId": "495dd4e7-efe2-4891-8503-661fcb4d1890",
        "colab": {
          "base_uri": "https://localhost:8080/",
          "height": 106
        }
      },
      "execution_count": null,
      "outputs": [
        {
          "output_type": "error",
          "ename": "SyntaxError",
          "evalue": "cannot assign to False (<ipython-input-9-eb97be07a03a>, line 1)",
          "traceback": [
            "\u001b[0;36m  File \u001b[0;32m\"<ipython-input-9-eb97be07a03a>\"\u001b[0;36m, line \u001b[0;32m1\u001b[0m\n\u001b[0;31m    False=10\u001b[0m\n\u001b[0m    ^\u001b[0m\n\u001b[0;31mSyntaxError\u001b[0m\u001b[0;31m:\u001b[0m cannot assign to False\n"
          ]
        }
      ]
    },
    {
      "cell_type": "code",
      "source": [
        "#multilile comment\n",
        "\"\"\" hllllll\n",
        "hohohouip\n",
        "lkjljlk\"\"\"\n",
        "print(\"Hi\")"
      ],
      "metadata": {
        "id": "wS-cwilvKQnn",
        "outputId": "a3c97515-55e4-43c1-c981-3234a421627b",
        "colab": {
          "base_uri": "https://localhost:8080/"
        }
      },
      "execution_count": null,
      "outputs": [
        {
          "output_type": "stream",
          "name": "stdout",
          "text": [
            "Hi\n"
          ]
        }
      ]
    },
    {
      "cell_type": "code",
      "source": [
        "#multilile string\n",
        "st=\"\"\" hllllll\n",
        "hohohouip\n",
        "lkjljlk\"\"\"\n",
        "print(st)"
      ],
      "metadata": {
        "id": "Pv3NqS8mNW_7",
        "outputId": "c542f760-10b2-48d5-ab57-366ba24cc87b",
        "colab": {
          "base_uri": "https://localhost:8080/"
        }
      },
      "execution_count": null,
      "outputs": [
        {
          "output_type": "stream",
          "name": "stdout",
          "text": [
            " hllllll\n",
            "hohohouip\n",
            "lkjljlk\n"
          ]
        }
      ]
    },
    {
      "cell_type": "code",
      "source": [
        "#DAY8\n",
        "#Dictionary"
      ],
      "metadata": {
        "id": "mQsFLvZoeNDd"
      },
      "execution_count": null,
      "outputs": []
    },
    {
      "cell_type": "code",
      "source": [],
      "metadata": {
        "id": "cm3XxKsTeRBS"
      },
      "execution_count": null,
      "outputs": []
    },
    {
      "cell_type": "code",
      "source": [
        "\n",
        "d1= {2:100,\n",
        "     4:200,\n",
        "     6:300,\n",
        "     8:400,\n",
        "     10:500}\n",
        "print(d1)\n",
        "print(type(d1))\n",
        "print(d1[2])\n",
        "print(d1[10])\n",
        "\n"
      ],
      "metadata": {
        "id": "SbtAeckVaxqf",
        "outputId": "f11472be-f181-4541-8a4e-089c526f6d8e",
        "colab": {
          "base_uri": "https://localhost:8080/"
        }
      },
      "execution_count": 7,
      "outputs": [
        {
          "output_type": "stream",
          "name": "stdout",
          "text": [
            "{2: 100, 4: 200, 6: 300, 8: 400, 10: 500}\n",
            "<class 'dict'>\n",
            "100\n",
            "500\n",
            "<built-in method keys of dict object at 0x7a0382feb3c0>\n",
            "<class 'dict'>\n"
          ]
        }
      ]
    },
    {
      "cell_type": "code",
      "source": [],
      "metadata": {
        "id": "UY01apXFeJcG"
      },
      "execution_count": null,
      "outputs": []
    },
    {
      "cell_type": "code",
      "source": [
        "d2={'aa':100,\n",
        "    'bb':200,\n",
        "    'cc':300}\n",
        "print(d2)\n",
        "print(d2['cc'])"
      ],
      "metadata": {
        "id": "TbKPKKuQb3EX",
        "outputId": "2a8d2a37-30f3-4cb8-c5ec-7f66297d2383",
        "colab": {
          "base_uri": "https://localhost:8080/"
        }
      },
      "execution_count": 13,
      "outputs": [
        {
          "output_type": "stream",
          "name": "stdout",
          "text": [
            "{'aa': 100, 'bb': 200, 'cc': 300}\n",
            "300\n"
          ]
        }
      ]
    },
    {
      "cell_type": "code",
      "source": [
        "d3={3:[1,2,3],\n",
        "    6:(4,5,6),\n",
        "    9:\"NTT\"}\n",
        "print(d3)\n",
        "print(d3[3])\n",
        "print(d3[6])\n",
        "print(d3[9])"
      ],
      "metadata": {
        "id": "r8qf2PtHcdHy",
        "outputId": "adbcd47b-acf7-4a50-d26d-443a754c4500",
        "colab": {
          "base_uri": "https://localhost:8080/"
        }
      },
      "execution_count": 14,
      "outputs": [
        {
          "output_type": "stream",
          "name": "stdout",
          "text": [
            "{3: [1, 2, 3], 6: (4, 5, 6), 9: 'NTT'}\n",
            "[1, 2, 3]\n",
            "(4, 5, 6)\n",
            "NTT\n"
          ]
        }
      ]
    },
    {
      "cell_type": "code",
      "source": [
        "d4={(1,2):100,\n",
        "    (3,4):200,\n",
        "    (5,6):300}\n",
        "print(d4)\n",
        "print(d4[(1,2)])\n"
      ],
      "metadata": {
        "id": "_Ox4Ey72dKSh",
        "outputId": "5c044c2d-4e68-4618-8607-5a2c0384b09f",
        "colab": {
          "base_uri": "https://localhost:8080/"
        }
      },
      "execution_count": 17,
      "outputs": [
        {
          "output_type": "stream",
          "name": "stdout",
          "text": [
            "{(1, 2): 100, (3, 4): 200, (5, 6): 300}\n",
            "100\n"
          ]
        }
      ]
    },
    {
      "cell_type": "code",
      "source": [
        "d5={3:100,\n",
        "    (3,4):200,\n",
        "    \"hi\":300}\n",
        "print(d5)\n",
        "print(d5[\"hi\"])"
      ],
      "metadata": {
        "id": "OXtOPZGPdv1y",
        "outputId": "6c1c89a9-73cd-4a0e-8fa3-1e9977a5ba71",
        "colab": {
          "base_uri": "https://localhost:8080/"
        }
      },
      "execution_count": 19,
      "outputs": [
        {
          "output_type": "stream",
          "name": "stdout",
          "text": [
            "{3: 100, (3, 4): 200, 'hi': 300}\n",
            "300\n"
          ]
        }
      ]
    },
    {
      "cell_type": "code",
      "source": [
        "#iterate through Dictionary\n",
        "d1= {2:100,\n",
        "     4:200,\n",
        "     6:300,\n",
        "     8:400,\n",
        "     10:500}\n",
        "\n",
        "\n",
        "for key1 in d1:\n",
        " print(key1)\n",
        "\n",
        "\n",
        "print(type(d1))\n",
        "print(d1[2])\n",
        "print(d1[10])\n"
      ],
      "metadata": {
        "id": "8quWUKuFeS8D",
        "outputId": "390dc727-aacc-42d7-e97d-f7750197b7ad",
        "colab": {
          "base_uri": "https://localhost:8080/"
        }
      },
      "execution_count": 23,
      "outputs": [
        {
          "output_type": "stream",
          "name": "stdout",
          "text": [
            "2\n",
            "4\n",
            "6\n",
            "8\n",
            "10\n",
            "<class 'dict'>\n",
            "100\n",
            "500\n"
          ]
        }
      ]
    },
    {
      "cell_type": "code",
      "source": [
        "#iterate through values\n",
        "\n",
        "\n",
        "d1= {2:100,\n",
        "     4:200,\n",
        "     6:300,\n",
        "     8:400,\n",
        "     10:500}\n",
        "\n",
        "\n",
        "for values in d1.values():\n",
        "   print(values)"
      ],
      "metadata": {
        "id": "tKKhQ0AsfELk",
        "outputId": "bac72e05-e098-4aef-d8fa-c6e430e5068a",
        "colab": {
          "base_uri": "https://localhost:8080/"
        }
      },
      "execution_count": 24,
      "outputs": [
        {
          "output_type": "stream",
          "name": "stdout",
          "text": [
            "100\n",
            "200\n",
            "300\n",
            "400\n",
            "500\n"
          ]
        }
      ]
    },
    {
      "cell_type": "code",
      "source": [
        "#iterate through items\n",
        "d1= {2:100,\n",
        "     4:200,\n",
        "     6:300,\n",
        "     8:400,\n",
        "     10:500}\n",
        "\n",
        "\n",
        "for items in d1.items():\n",
        "   print(items)"
      ],
      "metadata": {
        "id": "B7BgEkHEff1s",
        "outputId": "50ca9f35-de0f-4152-a968-77b17b2c81fb",
        "colab": {
          "base_uri": "https://localhost:8080/"
        }
      },
      "execution_count": 28,
      "outputs": [
        {
          "output_type": "stream",
          "name": "stdout",
          "text": [
            "(2, 100)\n",
            "(4, 200)\n",
            "(6, 300)\n",
            "(8, 400)\n",
            "(10, 500)\n"
          ]
        }
      ]
    },
    {
      "cell_type": "code",
      "source": [
        "d1= {2:100,\n",
        "     4:200,\n",
        "     6:300,\n",
        "     8:400,\n",
        "     10:500}\n",
        "\n",
        "\n",
        "for xx,yy in d1.items():\n",
        "   print(xx)\n",
        "   print(yy)"
      ],
      "metadata": {
        "id": "APQXcyEGg8Dx",
        "outputId": "7ec79467-e5ab-43f2-cbf9-1d2b1b61d846",
        "colab": {
          "base_uri": "https://localhost:8080/"
        }
      },
      "execution_count": 32,
      "outputs": [
        {
          "output_type": "stream",
          "name": "stdout",
          "text": [
            "2\n",
            "100\n",
            "4\n",
            "200\n",
            "6\n",
            "300\n",
            "8\n",
            "400\n",
            "10\n",
            "500\n"
          ]
        }
      ]
    },
    {
      "cell_type": "code",
      "source": [
        "d1= {2:100,\n",
        "     4:200,\n",
        "     6:300,\n",
        "     8:400,\n",
        "     11:500}\n",
        "\n",
        "\n",
        "if 2 in d1:\n",
        "   print(\"2 is present\")\n",
        "if 10 not in d1:\n",
        "   print(\"10 is not present\")"
      ],
      "metadata": {
        "id": "eW1eXn3LhRsc",
        "outputId": "35280784-fc57-4dbd-a9a0-9fdfe32f375a",
        "colab": {
          "base_uri": "https://localhost:8080/"
        }
      },
      "execution_count": 35,
      "outputs": [
        {
          "output_type": "stream",
          "name": "stdout",
          "text": [
            "2 is present\n",
            "10 is not present\n"
          ]
        }
      ]
    },
    {
      "cell_type": "code",
      "source": [
        "d1= {2:100,\n",
        "     4:200,\n",
        "     6:300,\n",
        "     8:400,\n",
        "     10:500}\n",
        "\n",
        "\n",
        "for key in d1:\n",
        "   print(d1[key])"
      ],
      "metadata": {
        "id": "7Hy3TUeaf_Se",
        "outputId": "c93acfd9-2b4a-4efd-a335-f8c255c78d5a",
        "colab": {
          "base_uri": "https://localhost:8080/"
        }
      },
      "execution_count": 29,
      "outputs": [
        {
          "output_type": "stream",
          "name": "stdout",
          "text": [
            "100\n",
            "200\n",
            "300\n",
            "400\n",
            "500\n"
          ]
        }
      ]
    },
    {
      "cell_type": "code",
      "source": [
        "#inbuit methods\n",
        "\n",
        "#keys\n",
        "\n",
        "d1= {2:100,\n",
        "     4:200,\n",
        "     6:300,\n",
        "     8:400,\n",
        "     11:500}\n",
        "\n",
        "keys = d1.keys()\n",
        "print(keys)\n",
        "print(type(keys))\n",
        "\n",
        "#list\n",
        "l1= list(keys)\n",
        "print(l1)\n",
        "print(type(l1))\n",
        "\n",
        "#values\n",
        "values = d1.values()\n",
        "print(values)\n",
        "print(type(values))\n",
        "\n",
        "#items\n",
        "it= d1.items()\n",
        "print(it)\n",
        "\n",
        "#get\n",
        "val = d1.get(4)\n",
        "print(val)\n",
        "val=d1.get(10,-100) # -100 is default value\n",
        "print(val)\n"
      ],
      "metadata": {
        "id": "oMT4yit6h5AA",
        "outputId": "d09a563f-50b6-4400-aba7-f6c9c0083ff1",
        "colab": {
          "base_uri": "https://localhost:8080/"
        }
      },
      "execution_count": 42,
      "outputs": [
        {
          "output_type": "stream",
          "name": "stdout",
          "text": [
            "dict_keys([2, 4, 6, 8, 11])\n",
            "<class 'dict_keys'>\n",
            "[2, 4, 6, 8, 11]\n",
            "<class 'list'>\n",
            "dict_values([100, 200, 300, 400, 500])\n",
            "<class 'dict_values'>\n",
            "dict_items([(2, 100), (4, 200), (6, 300), (8, 400), (11, 500)])\n",
            "200\n",
            "-100\n"
          ]
        }
      ]
    },
    {
      "cell_type": "code",
      "source": [
        "#pop\n",
        "\n",
        "d1= {2:100,\n",
        "     4:200,\n",
        "     6:300,\n",
        "     8:400\n",
        "     }\n",
        "\n",
        "val = d1.pop(4)\n",
        "print(val)\n",
        "print(d1)\n",
        "\n",
        "val2 = d1.pop(10,1000) #1000 is default we are providing as 10 is not part of d1 for no err throw\n",
        "print(val2)\n",
        "print(d1)"
      ],
      "metadata": {
        "id": "B3Ns2g-Okk8Z",
        "outputId": "356fba9c-cb49-4595-c66f-5f12c12995bf",
        "colab": {
          "base_uri": "https://localhost:8080/"
        }
      },
      "execution_count": 51,
      "outputs": [
        {
          "output_type": "stream",
          "name": "stdout",
          "text": [
            "200\n",
            "{2: 100, 6: 300, 8: 400}\n",
            "1000\n",
            "{2: 100, 6: 300, 8: 400}\n"
          ]
        }
      ]
    },
    {
      "cell_type": "code",
      "source": [
        "#update\n",
        "\n",
        "d1= {2:100,\n",
        "     4:200,\n",
        "     6:300,\n",
        "     8:400\n",
        "     }\n",
        "\n",
        "d2={10:1000,20:2000}\n",
        "\n",
        "d1.update(d2)\n",
        "print(d1)\n",
        "d1.update({2:10000,200:20000})\n",
        "print(d1)\n"
      ],
      "metadata": {
        "id": "pf5V97Tmlojp",
        "outputId": "37c413fb-1e77-4fa7-e270-2fe86318edae",
        "colab": {
          "base_uri": "https://localhost:8080/"
        }
      },
      "execution_count": 54,
      "outputs": [
        {
          "output_type": "stream",
          "name": "stdout",
          "text": [
            "{2: 100, 4: 200, 6: 300, 8: 400, 10: 1000, 20: 2000}\n",
            "{2: 10000, 4: 200, 6: 300, 8: 400, 10: 1000, 20: 2000, 200: 20000}\n"
          ]
        }
      ]
    },
    {
      "cell_type": "code",
      "source": [
        "d1= {2:100,\n",
        "     4:200,\n",
        "     6:300,\n",
        "     2:400\n",
        "     }\n",
        "\n",
        "print(d1) #key is unique values got updated\n"
      ],
      "metadata": {
        "id": "NO47hNT5mm6I",
        "outputId": "361955d6-d491-4f1a-d9d6-fe8d9d3cfa85",
        "colab": {
          "base_uri": "https://localhost:8080/"
        }
      },
      "execution_count": 55,
      "outputs": [
        {
          "output_type": "stream",
          "name": "stdout",
          "text": [
            "{2: 400, 4: 200, 6: 300}\n"
          ]
        }
      ]
    },
    {
      "cell_type": "code",
      "source": [
        "#clear\n",
        "d1= {2:100,\n",
        "     4:200,\n",
        "     6:300,\n",
        "     2:400\n",
        "     }\n",
        "\n",
        "print(d1)\n",
        "d1.clear()\n",
        "print(d1)"
      ],
      "metadata": {
        "id": "Hj-oaARhm8dk",
        "outputId": "600d051e-4e35-45fe-ec64-b60f2bc5881c",
        "colab": {
          "base_uri": "https://localhost:8080/"
        }
      },
      "execution_count": 56,
      "outputs": [
        {
          "output_type": "stream",
          "name": "stdout",
          "text": [
            "{2: 400, 4: 200, 6: 300}\n",
            "{}\n"
          ]
        }
      ]
    },
    {
      "cell_type": "code",
      "source": [
        "#copy\n",
        "d1= {2:100,\n",
        "     4:200,\n",
        "     6:300,\n",
        "     8:400\n",
        "     }\n",
        "\n",
        "d2=d1.copy()\n",
        "\n",
        "print(d1)\n",
        "print(d2)\n",
        "print(id(d1))\n",
        "print(id(d2))\n"
      ],
      "metadata": {
        "id": "gxjBqK5vnPcW",
        "outputId": "fbeeaae7-9dd0-4bd0-faaa-fac279587142",
        "colab": {
          "base_uri": "https://localhost:8080/"
        }
      },
      "execution_count": 58,
      "outputs": [
        {
          "output_type": "stream",
          "name": "stdout",
          "text": [
            "{2: 100, 4: 200, 6: 300, 8: 400}\n",
            "{2: 100, 4: 200, 6: 300, 8: 400}\n",
            "134155206057472\n",
            "134155206061760\n"
          ]
        }
      ]
    },
    {
      "cell_type": "code",
      "source": [
        "#copy\n",
        "import copy\n",
        "d1= {2:100,\n",
        "     4:200,\n",
        "     6:300,\n",
        "     8:400\n",
        "     }\n",
        "\n",
        "d2=copy.deepcopy(d1)\n",
        "\n",
        "print(d1)\n",
        "print(d2)\n",
        "print(id(d1))\n",
        "print(id(d2))\n"
      ],
      "metadata": {
        "id": "3NNzLyPxqFlg",
        "outputId": "9f38f964-1d91-4065-c382-b9c329a79d1a",
        "colab": {
          "base_uri": "https://localhost:8080/"
        }
      },
      "execution_count": 59,
      "outputs": [
        {
          "output_type": "stream",
          "name": "stdout",
          "text": [
            "{2: 100, 4: 200, 6: 300, 8: 400}\n",
            "{2: 100, 4: 200, 6: 300, 8: 400}\n",
            "134155206052544\n",
            "134155206063808\n"
          ]
        }
      ]
    },
    {
      "cell_type": "code",
      "source": [
        "#from keys\n",
        "\n",
        "keys=[1,2,3,4]\n",
        "d1=dict.fromkeys(keys,2000)\n",
        "\n",
        "print(d1)\n",
        "\n"
      ],
      "metadata": {
        "id": "O-SCY5HhqX5Q",
        "outputId": "6cb0d077-64af-4304-de55-2725439b3a43",
        "colab": {
          "base_uri": "https://localhost:8080/"
        }
      },
      "execution_count": 61,
      "outputs": [
        {
          "output_type": "stream",
          "name": "stdout",
          "text": [
            "{1: 2000, 2: 2000, 3: 2000, 4: 2000}\n"
          ]
        }
      ]
    },
    {
      "cell_type": "code",
      "source": [
        "#create dict from zip\n",
        "\n",
        "keys=[1,2,3,4]\n",
        "v=[10,20,30,40]\n",
        "d1=dict(zip(keys,v))\n",
        "\n",
        "print(d1)"
      ],
      "metadata": {
        "id": "l_qGM4yaq_fn",
        "outputId": "c78f6696-c8d5-4c85-8c3a-0704ae667e89",
        "colab": {
          "base_uri": "https://localhost:8080/"
        }
      },
      "execution_count": 62,
      "outputs": [
        {
          "output_type": "stream",
          "name": "stdout",
          "text": [
            "{1: 10, 2: 20, 3: 30, 4: 40}\n"
          ]
        }
      ]
    },
    {
      "cell_type": "code",
      "source": [
        "# Assignment\n",
        "s = \" I live in blr, blr is a garden city and beautiful city\"   # input\n",
        "\n",
        "\n",
        "{'I':1 , 'live':1, 'in':2, 'blr':2, 'is':1, 'a':1, 'garden':1, 'city':2} # output"
      ],
      "metadata": {
        "id": "obYI-QjVrXt6"
      },
      "execution_count": null,
      "outputs": []
    }
  ]
}